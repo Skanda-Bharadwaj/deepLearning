{
 "cells": [
  {
   "cell_type": "markdown",
   "source": [
    "# GoogLeNet\n",
    "\n",
    "### Imports"
   ],
   "metadata": {
    "collapsed": false,
    "pycharm": {
     "name": "#%% md\n"
    }
   }
  },
  {
   "cell_type": "code",
   "execution_count": 8,
   "outputs": [],
   "source": [
    "import os\n",
    "import time\n",
    "import torch\n",
    "import numpy as np\n",
    "import torchvision\n",
    "import matplotlib.pyplot as plt\n",
    "from googlenet_model import GoogLeNet\n",
    "\n",
    "\n",
    "import sys\n",
    "sys.path.insert(0, '../helper_functions')\n",
    "\n",
    "from eval import set_seed, compute_confusion_matrix, compute_accuracy\n",
    "from plot import plot_training_loss, plot_accuracy, plot_confusion_matrix\n",
    "from dataset_loader import get_dataloaders_cifar10, get_dataloaders_imagenet"
   ],
   "metadata": {
    "collapsed": false,
    "pycharm": {
     "name": "#%%\n"
    }
   }
  },
  {
   "cell_type": "markdown",
   "source": [
    "### Initialize Setting"
   ],
   "metadata": {
    "collapsed": false,
    "pycharm": {
     "name": "#%% md\n"
    }
   }
  },
  {
   "cell_type": "code",
   "execution_count": 9,
   "outputs": [
    {
     "name": "stdout",
     "output_type": "stream",
     "text": [
      "Device:  cuda:0\n"
     ]
    }
   ],
   "source": [
    "RANDOM_SEED = 1234\n",
    "BATCH_SIZE = 128\n",
    "NUM_EPOCHS = 20\n",
    "\n",
    "DEVICE = torch.device('cuda:0' if torch.cuda.is_available() else 'cpu')\n",
    "print('Device: ', DEVICE)\n",
    "set_seed(RANDOM_SEED)"
   ],
   "metadata": {
    "collapsed": false,
    "pycharm": {
     "name": "#%%\n"
    }
   }
  },
  {
   "cell_type": "markdown",
   "source": [
    "### Apply transforms to data"
   ],
   "metadata": {
    "collapsed": false,
    "pycharm": {
     "name": "#%% md\n"
    }
   }
  },
  {
   "cell_type": "code",
   "execution_count": 10,
   "outputs": [
    {
     "name": "stdout",
     "output_type": "stream",
     "text": [
      "Files already downloaded and verified\n",
      "Mean: [0.49152106 0.48210174 0.44642982]\n",
      "Std: [0.2410465  0.23764916 0.25611374]\n"
     ]
    }
   ],
   "source": [
    "test_transforms = torchvision.transforms.Compose([\n",
    "    torchvision.transforms.Resize([224, 224]),\n",
    "    torchvision.transforms.ToTensor()\n",
    "])\n",
    "\n",
    "# train_loader, valid_loader, test_loader = get_dataloaders_imagenet(\n",
    "#     batch_size=BATCH_SIZE,\n",
    "#     train_transforms=test_transforms,\n",
    "#     test_transforms=test_transforms,\n",
    "#     num_workers=2\n",
    "# )\n",
    "\n",
    "train_loader, valid_loader, test_loader = get_dataloaders_cifar10(\n",
    "    batch_size=BATCH_SIZE,\n",
    "    validation_fraction=0.1,\n",
    "    train_transforms=test_transforms,\n",
    "    test_transforms=test_transforms,\n",
    "    num_workers=2\n",
    ")\n",
    "\n",
    "train_mean, train_std = [], []\n",
    "\n",
    "for i, image in enumerate(train_loader, 0):\n",
    "    np_image = image[0].numpy()\n",
    "\n",
    "    batch_mean = np.mean(np_image, axis=(0, 2, 3))\n",
    "    batch_std= np.std(np_image, axis=(0, 2, 3))\n",
    "\n",
    "    train_mean.append(batch_mean)\n",
    "    train_std.append(batch_std)\n",
    "\n",
    "train_mean = np.mean(train_mean, axis=0)\n",
    "train_std = np.mean(train_std, axis=0)\n",
    "\n",
    "# train_mean = [0.48050696, 0.4483643,  0.39774126]\n",
    "# train_std  = [0.26106745, 0.25452408, 0.2638668]\n",
    "\n",
    "print(f'Mean: {train_mean}')\n",
    "print(f'Std: {train_std}')"
   ],
   "metadata": {
    "collapsed": false,
    "pycharm": {
     "name": "#%%\n"
    }
   }
  },
  {
   "cell_type": "code",
   "execution_count": 11,
   "outputs": [
    {
     "name": "stdout",
     "output_type": "stream",
     "text": [
      "Files already downloaded and verified\n"
     ]
    }
   ],
   "source": [
    "train_transforms = torchvision.transforms.Compose([\n",
    "    torchvision.transforms.Resize([224, 224]),\n",
    "    torchvision.transforms.ToTensor()\n",
    "])\n",
    "\n",
    "test_transforms = torchvision.transforms.Compose([\n",
    "    torchvision.transforms.Resize([224, 224]),\n",
    "    torchvision.transforms.ToTensor()\n",
    "])\n",
    "\n",
    "# train_loader, valid_loader, test_loader = get_dataloaders_imagenet(\n",
    "#     batch_size=BATCH_SIZE,\n",
    "#     train_transforms=train_transforms,\n",
    "#     test_transforms=test_transforms,\n",
    "#     num_workers=2\n",
    "# )\n",
    "\n",
    "train_loader, valid_loader, test_loader = get_dataloaders_cifar10(\n",
    "    batch_size=BATCH_SIZE,\n",
    "    validation_fraction=0.1,\n",
    "    train_transforms=train_transforms,\n",
    "    test_transforms=test_transforms,\n",
    "    num_workers=2\n",
    ")\n"
   ],
   "metadata": {
    "collapsed": false,
    "pycharm": {
     "name": "#%%\n"
    }
   }
  },
  {
   "cell_type": "code",
   "execution_count": 12,
   "outputs": [],
   "source": [
    "def train_model(model, num_epochs, criterion,\n",
    "                train_loader, valid_loader, test_loader,\n",
    "                optimizer, device, use_auxiliary=True,\n",
    "                logging_interval=50, scheduler=None):\n",
    "\n",
    "    start_time = time.time()\n",
    "    mini_batch_loss_list, train_acc_list, valid_acc_list = [], [], []\n",
    "\n",
    "    for epoch in range(num_epochs):\n",
    "\n",
    "        model.train()\n",
    "        for batch_idx, (features, targets) in enumerate(train_loader):\n",
    "\n",
    "            features = features.to(device)\n",
    "            targets  = targets.to(device)\n",
    "\n",
    "            optimizer.zero_grad()\n",
    "\n",
    "            if use_auxiliary:\n",
    "                logits, aux1, aux2 = model(features)\n",
    "                loss =       criterion(logits, targets) + \\\n",
    "                       0.3 * criterion(aux1, targets) + \\\n",
    "                       0.3 * criterion(aux2, targets)\n",
    "            else:\n",
    "                logits, _, _ = model(features)\n",
    "                loss = criterion(logits, features)\n",
    "\n",
    "            loss.backward()\n",
    "            optimizer.step()\n",
    "\n",
    "            mini_batch_loss_list.append(loss.item())\n",
    "            if not batch_idx % logging_interval:\n",
    "                print(f'Epoch: {epoch+1:03d}/{num_epochs:03d}'\n",
    "                      f' | Batch {batch_idx:04d}/{len(train_loader):04d}'\n",
    "                      f' | Loss: {loss:.4f}')\n",
    "\n",
    "        model.eval()\n",
    "        with torch.no_grad():\n",
    "            train_accuracy = compute_accuracy(model, train_loader, device=device)\n",
    "            valid_accuracy = compute_accuracy(model, valid_loader, device=device)\n",
    "            print(f'Epoch: {epoch+1:03d}/{num_epochs:03d}'\n",
    "                  f' | Train: {train_accuracy:.2f}%'\n",
    "                  f' | Validation: {valid_accuracy:.2f}%')\n",
    "\n",
    "            train_acc_list.append(train_accuracy.item())\n",
    "            valid_acc_list.append(valid_accuracy.item())\n",
    "\n",
    "            elapsed_time = (time.time()-start_time)/60\n",
    "            print(f'Time elapsed: {elapsed_time:.2f} min')\n",
    "\n",
    "            scheduler.step(valid_acc_list[-1])\n",
    "\n",
    "    elapsed = (time.time() - start_time)/60\n",
    "    print(f'Total Training Time: {elapsed:.2f} min')\n",
    "\n",
    "    test_acc = compute_accuracy(model, test_loader, device=device)\n",
    "    print(f'Test accuracy: {test_acc:.2f}%')\n",
    "\n",
    "    return mini_batch_loss_list, train_acc_list, valid_acc_list"
   ],
   "metadata": {
    "collapsed": false,
    "pycharm": {
     "name": "#%%\n"
    }
   }
  },
  {
   "cell_type": "code",
   "execution_count": 13,
   "outputs": [
    {
     "name": "stdout",
     "output_type": "stream",
     "text": [
      "Device: cuda:0\n",
      "Epoch: 001/020 | Batch 0000/0351 | Loss: 12.2641\n",
      "Epoch: 001/020 | Batch 0200/0351 | Loss: 2.4179\n",
      "Epoch: 001/020 | Train: 51.10% | Validation: 51.50%\n",
      "Time elapsed: 4.27 min\n",
      "Epoch: 002/020 | Batch 0000/0351 | Loss: 2.0320\n",
      "Epoch: 002/020 | Batch 0200/0351 | Loss: 1.8505\n",
      "Epoch: 002/020 | Train: 69.99% | Validation: 68.09%\n",
      "Time elapsed: 8.56 min\n",
      "Epoch: 003/020 | Batch 0000/0351 | Loss: 1.5022\n",
      "Epoch: 003/020 | Batch 0200/0351 | Loss: 1.3573\n",
      "Epoch: 003/020 | Train: 71.57% | Validation: 69.47%\n",
      "Time elapsed: 12.80 min\n",
      "Epoch: 004/020 | Batch 0000/0351 | Loss: 0.9896\n",
      "Epoch: 004/020 | Batch 0200/0351 | Loss: 1.2878\n",
      "Epoch: 004/020 | Train: 81.06% | Validation: 77.60%\n",
      "Time elapsed: 17.01 min\n",
      "Epoch: 005/020 | Batch 0000/0351 | Loss: 0.7753\n",
      "Epoch: 005/020 | Batch 0200/0351 | Loss: 0.6843\n",
      "Epoch: 005/020 | Train: 85.20% | Validation: 79.19%\n",
      "Time elapsed: 21.22 min\n",
      "Epoch: 006/020 | Batch 0000/0351 | Loss: 0.6062\n",
      "Epoch: 006/020 | Batch 0200/0351 | Loss: 1.0182\n",
      "Epoch: 006/020 | Train: 81.91% | Validation: 76.10%\n",
      "Time elapsed: 25.71 min\n",
      "Epoch: 007/020 | Batch 0000/0351 | Loss: 0.7341\n",
      "Epoch: 007/020 | Batch 0200/0351 | Loss: 0.4958\n",
      "Epoch: 007/020 | Train: 73.55% | Validation: 67.87%\n",
      "Time elapsed: 30.09 min\n",
      "Epoch: 008/020 | Batch 0000/0351 | Loss: 0.5574\n",
      "Epoch: 008/020 | Batch 0200/0351 | Loss: 0.5006\n",
      "Epoch: 008/020 | Train: 86.51% | Validation: 76.74%\n",
      "Time elapsed: 34.47 min\n",
      "Epoch: 009/020 | Batch 0000/0351 | Loss: 0.4196\n",
      "Epoch: 009/020 | Batch 0200/0351 | Loss: 0.3511\n",
      "Epoch: 009/020 | Train: 89.36% | Validation: 79.45%\n",
      "Time elapsed: 38.74 min\n",
      "Epoch: 010/020 | Batch 0000/0351 | Loss: 0.6162\n",
      "Epoch: 010/020 | Batch 0200/0351 | Loss: 0.4308\n",
      "Epoch: 010/020 | Train: 93.78% | Validation: 81.23%\n",
      "Time elapsed: 42.99 min\n",
      "Epoch: 011/020 | Batch 0000/0351 | Loss: 0.3500\n",
      "Epoch: 011/020 | Batch 0200/0351 | Loss: 0.2786\n",
      "Epoch: 011/020 | Train: 90.39% | Validation: 79.39%\n",
      "Time elapsed: 47.24 min\n",
      "Epoch: 012/020 | Batch 0000/0351 | Loss: 0.2537\n",
      "Epoch: 012/020 | Batch 0200/0351 | Loss: 0.2723\n",
      "Epoch: 012/020 | Train: 95.14% | Validation: 80.99%\n",
      "Time elapsed: 51.49 min\n",
      "Epoch: 013/020 | Batch 0000/0351 | Loss: 0.2287\n",
      "Epoch: 013/020 | Batch 0200/0351 | Loss: 0.3663\n",
      "Epoch: 013/020 | Train: 94.92% | Validation: 80.55%\n",
      "Time elapsed: 55.75 min\n",
      "Epoch: 014/020 | Batch 0000/0351 | Loss: 0.2364\n",
      "Epoch: 014/020 | Batch 0200/0351 | Loss: 0.1850\n",
      "Epoch: 014/020 | Train: 96.60% | Validation: 81.87%\n",
      "Time elapsed: 60.14 min\n",
      "Epoch: 015/020 | Batch 0000/0351 | Loss: 0.2466\n",
      "Epoch: 015/020 | Batch 0200/0351 | Loss: 0.1256\n",
      "Epoch: 015/020 | Train: 99.11% | Validation: 84.35%\n",
      "Time elapsed: 64.52 min\n",
      "Epoch: 016/020 | Batch 0000/0351 | Loss: 0.1245\n",
      "Epoch: 016/020 | Batch 0200/0351 | Loss: 0.1080\n",
      "Epoch: 016/020 | Train: 97.51% | Validation: 82.51%\n",
      "Time elapsed: 68.89 min\n",
      "Epoch: 017/020 | Batch 0000/0351 | Loss: 0.1040\n",
      "Epoch: 017/020 | Batch 0200/0351 | Loss: 0.0936\n",
      "Epoch: 017/020 | Train: 99.10% | Validation: 84.27%\n",
      "Time elapsed: 73.16 min\n",
      "Epoch: 018/020 | Batch 0000/0351 | Loss: 0.0952\n",
      "Epoch: 018/020 | Batch 0200/0351 | Loss: 0.1149\n",
      "Epoch: 018/020 | Train: 99.47% | Validation: 85.08%\n",
      "Time elapsed: 77.41 min\n",
      "Epoch: 019/020 | Batch 0000/0351 | Loss: 0.0948\n",
      "Epoch: 019/020 | Batch 0200/0351 | Loss: 0.0943\n",
      "Epoch: 019/020 | Train: 99.64% | Validation: 85.22%\n",
      "Time elapsed: 81.66 min\n",
      "Epoch: 020/020 | Batch 0000/0351 | Loss: 0.0395\n",
      "Epoch: 020/020 | Batch 0200/0351 | Loss: 0.0950\n",
      "Epoch: 020/020 | Train: 99.80% | Validation: 85.70%\n",
      "Time elapsed: 85.91 min\n",
      "Total Training Time: 85.91 min\n",
      "Test accuracy: 85.14%\n"
     ]
    }
   ],
   "source": [
    "model = GoogLeNet(num_Classes=1000)\n",
    "\n",
    "model = model.to(DEVICE)\n",
    "print(f'Device: {DEVICE}')\n",
    "\n",
    "criterion = torch.nn.CrossEntropyLoss()\n",
    "optimizer = torch.optim.SGD(model.parameters(), momentum=0.9, lr=0.01)\n",
    "scheduler = torch.optim.lr_scheduler.ReduceLROnPlateau(optimizer,\n",
    "                                                       factor=0.1,\n",
    "                                                       mode='max',\n",
    "                                                       verbose=True)\n",
    "\n",
    "torch.cuda.empty_cache()\n",
    "minibatch_loss_list, train_acc_list, valid_acc_list = train_model(\n",
    "    model=model,\n",
    "    num_epochs=NUM_EPOCHS,\n",
    "    criterion=criterion,\n",
    "    train_loader=train_loader,\n",
    "    valid_loader=valid_loader,\n",
    "    test_loader=test_loader,\n",
    "    optimizer=optimizer,\n",
    "    device=DEVICE,\n",
    "    logging_interval=200,\n",
    "    scheduler=scheduler)"
   ],
   "metadata": {
    "collapsed": false,
    "pycharm": {
     "name": "#%%\n"
    }
   }
  },
  {
   "cell_type": "code",
   "execution_count": 14,
   "outputs": [
    {
     "data": {
      "text/plain": "<Figure size 432x288 with 2 Axes>",
      "image/png": "[encoded data removed]"
     },
     "metadata": {
      "needs_background": "light"
     },
     "output_type": "display_data"
    },
    {
     "data": {
      "text/plain": "<Figure size 432x288 with 1 Axes>",
      "image/png": "[encoded data removed]"
     },
     "metadata": {
      "needs_background": "light"
     },
     "output_type": "display_data"
    }
   ],
   "source": [
    "plot_training_loss(mini_batch_loss_list=minibatch_loss_list,\n",
    "                   num_epoch=NUM_EPOCHS,\n",
    "                   iter_per_epoch=len(train_loader),\n",
    "                   result_dir=None,\n",
    "                   averaging_iteration=200)\n",
    "plt.show()\n",
    "\n",
    "plot_accuracy(train_acc_list=train_acc_list,\n",
    "              valid_acc_list=valid_acc_list,\n",
    "              results_dir=None)\n",
    "\n",
    "plt.show()"
   ],
   "metadata": {
    "collapsed": false,
    "pycharm": {
     "name": "#%%\n"
    }
   }
  },
  {
   "cell_type": "code",
   "execution_count": 15,
   "outputs": [],
   "source": [
    "os.makedirs('../save_model', exist_ok=True)\n",
    "torch.save(model.state_dict(), '../save_model/GoogLeNet.pt')"
   ],
   "metadata": {
    "collapsed": false,
    "pycharm": {
     "name": "#%%\n"
    }
   }
  },
  {
   "cell_type": "code",
   "execution_count": null,
   "outputs": [],
   "source": [],
   "metadata": {
    "collapsed": false,
    "pycharm": {
     "name": "#%%\n"
    }
   }
  }
 ],
 "metadata": {
  "kernelspec": {
   "display_name": "Python 3",
   "language": "python",
   "name": "python3"
  },
  "language_info": {
   "codemirror_mode": {
    "name": "ipython",
    "version": 2
   },
   "file_extension": ".py",
   "mimetype": "text/x-python",
   "name": "python",
   "nbconvert_exporter": "python",
   "pygments_lexer": "ipython2",
   "version": "2.7.6"
  }
 },
 "nbformat": 4,
 "nbformat_minor": 0
}